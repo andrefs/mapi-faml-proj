{
 "cells": [
  {
   "cell_type": "markdown",
   "metadata": {},
   "source": [
    "# Generate heat matrixes\n",
    "\n",
    "This Notebook contains code to generate heat matrixes for:\n",
    "\n",
    "1. DBpedia embeddings (using the cosine between vectors)\n",
    "1. IBM WORD dataset relatedness values"
   ]
  },
  {
   "cell_type": "markdown",
   "metadata": {},
   "source": [
    "## Import all libraries"
   ]
  },
  {
   "cell_type": "code",
   "execution_count": 1,
   "metadata": {},
   "outputs": [],
   "source": [
    "import numpy as np\n",
    "import pandas as pd\n",
    "import seaborn as sns\n",
    "import matplotlib.pylab as plt\n",
    "from scipy.spatial import distance\n",
    "from sklearn.metrics.pairwise import cosine_similarity"
   ]
  },
  {
   "cell_type": "markdown",
   "metadata": {},
   "source": [
    "## Reading datasets"
   ]
  },
  {
   "cell_type": "markdown",
   "metadata": {},
   "source": [
    "### Embeddings\n",
    "\n",
    "Read embeddings data and calculate the heat matrix for the cosine between each pair of vectors.\n",
    "\n",
    "* `urls` contains the names of the concepts/entities\n",
    "* `vectors` contains the embeddings\n",
    "  * `vectors_small` contains only the first 10 entries (in order to be visualizable in this notebook)"
   ]
  },
  {
   "cell_type": "code",
   "execution_count": 2,
   "metadata": {},
   "outputs": [],
   "source": [
    "embs = pd.read_csv(\"../2_clean_datasets/embeddings.txt\", header=None, delimiter=' ')\n",
    "embs_n = embs.values\n",
    "\n",
    "urls = embs.iloc[:,0].to_numpy()\n",
    "urls = [u.replace('http://dbpedia.org/resource/' , '') for u in urls]\n",
    "\n",
    "vectors_small = embs.iloc[:10,1:].to_numpy()"
   ]
  },
  {
   "cell_type": "markdown",
   "metadata": {},
   "source": [
    "### Relatedness dataset (IBM WORD)"
   ]
  },
  {
   "cell_type": "code",
   "execution_count": 3,
   "metadata": {},
   "outputs": [
    {
     "data": {
      "text/html": [
       "<div>\n",
       "<style scoped>\n",
       "    .dataframe tbody tr th:only-of-type {\n",
       "        vertical-align: middle;\n",
       "    }\n",
       "\n",
       "    .dataframe tbody tr th {\n",
       "        vertical-align: top;\n",
       "    }\n",
       "\n",
       "    .dataframe thead th {\n",
       "        text-align: right;\n",
       "    }\n",
       "</style>\n",
       "<table border=\"1\" class=\"dataframe\">\n",
       "  <thead>\n",
       "    <tr style=\"text-align: right;\">\n",
       "      <th></th>\n",
       "      <th>0</th>\n",
       "      <th>1</th>\n",
       "      <th>2</th>\n",
       "      <th>3</th>\n",
       "    </tr>\n",
       "  </thead>\n",
       "  <tbody>\n",
       "    <tr>\n",
       "      <th>0</th>\n",
       "      <td>The_One_(magazine)</td>\n",
       "      <td>Television_program</td>\n",
       "      <td>0.1</td>\n",
       "      <td>Train</td>\n",
       "    </tr>\n",
       "    <tr>\n",
       "      <th>1</th>\n",
       "      <td>Japanese_language</td>\n",
       "      <td>Music</td>\n",
       "      <td>0.0</td>\n",
       "      <td>Train</td>\n",
       "    </tr>\n",
       "    <tr>\n",
       "      <th>2</th>\n",
       "      <td>Level_(video_gaming)</td>\n",
       "      <td>Guinness_World_Records</td>\n",
       "      <td>1.0</td>\n",
       "      <td>Train</td>\n",
       "    </tr>\n",
       "    <tr>\n",
       "      <th>3</th>\n",
       "      <td>Entertainment</td>\n",
       "      <td>Murder</td>\n",
       "      <td>0.0</td>\n",
       "      <td>Train</td>\n",
       "    </tr>\n",
       "    <tr>\n",
       "      <th>4</th>\n",
       "      <td>Survival_horror</td>\n",
       "      <td>Commodore_64</td>\n",
       "      <td>0.0</td>\n",
       "      <td>Train</td>\n",
       "    </tr>\n",
       "    <tr>\n",
       "      <th>...</th>\n",
       "      <td>...</td>\n",
       "      <td>...</td>\n",
       "      <td>...</td>\n",
       "      <td>...</td>\n",
       "    </tr>\n",
       "    <tr>\n",
       "      <th>12632</th>\n",
       "      <td>Internet_radio</td>\n",
       "      <td>Man-in-the-browser</td>\n",
       "      <td>0.3</td>\n",
       "      <td>Train</td>\n",
       "    </tr>\n",
       "    <tr>\n",
       "      <th>12633</th>\n",
       "      <td>Social_network</td>\n",
       "      <td>Revised_Statutes_of_the_United_States</td>\n",
       "      <td>0.0</td>\n",
       "      <td>Train</td>\n",
       "    </tr>\n",
       "    <tr>\n",
       "      <th>12634</th>\n",
       "      <td>E-commerce</td>\n",
       "      <td>Device_fingerprint</td>\n",
       "      <td>0.1</td>\n",
       "      <td>Train</td>\n",
       "    </tr>\n",
       "    <tr>\n",
       "      <th>12635</th>\n",
       "      <td>HTTP_cookie</td>\n",
       "      <td>Internaut</td>\n",
       "      <td>0.4</td>\n",
       "      <td>Train</td>\n",
       "    </tr>\n",
       "    <tr>\n",
       "      <th>12636</th>\n",
       "      <td>Google</td>\n",
       "      <td>Maressa_Orzack</td>\n",
       "      <td>0.0</td>\n",
       "      <td>Train</td>\n",
       "    </tr>\n",
       "  </tbody>\n",
       "</table>\n",
       "<p>12637 rows × 4 columns</p>\n",
       "</div>"
      ],
      "text/plain": [
       "                          0                                      1    2      3\n",
       "0        The_One_(magazine)                     Television_program  0.1  Train\n",
       "1         Japanese_language                                  Music  0.0  Train\n",
       "2      Level_(video_gaming)                 Guinness_World_Records  1.0  Train\n",
       "3             Entertainment                                 Murder  0.0  Train\n",
       "4           Survival_horror                           Commodore_64  0.0  Train\n",
       "...                     ...                                    ...  ...    ...\n",
       "12632        Internet_radio                     Man-in-the-browser  0.3  Train\n",
       "12633        Social_network  Revised_Statutes_of_the_United_States  0.0  Train\n",
       "12634            E-commerce                     Device_fingerprint  0.1  Train\n",
       "12635           HTTP_cookie                              Internaut  0.4  Train\n",
       "12636                Google                         Maressa_Orzack  0.0  Train\n",
       "\n",
       "[12637 rows x 4 columns]"
      ]
     },
     "execution_count": 3,
     "metadata": {},
     "output_type": "execute_result"
    }
   ],
   "source": [
    "relness = pd.read_csv(\"../2_clean_datasets/relatedness_train.tsv\", header=None, delimiter='\\t')\n",
    "relness.replace(regex='^http://dbpedia.org/resource/' , value='')"
   ]
  },
  {
   "cell_type": "markdown",
   "metadata": {},
   "source": [
    "## Displaying heat matrix of cosines between embeddings\n",
    "\n",
    "Cosines are calculated only for the `vectors_small` array"
   ]
  },
  {
   "cell_type": "code",
   "execution_count": 4,
   "metadata": {},
   "outputs": [],
   "source": [
    "cosines_small = cosine_similarity(vectors_small)"
   ]
  },
  {
   "cell_type": "markdown",
   "metadata": {},
   "source": [
    "The code below generates the heat map which helps visualizing the cosine between each pair of vectors. \n",
    "\n",
    "Without comparing with the IBM WORD dataset, there's no way of knowing if this represents what we want (semantic relatedness) but there are some weird cases (`Alchemy/Anarchism`). But even if we looked into IBM WORD, not all these pairs are featured there."
   ]
  },
  {
   "cell_type": "code",
   "execution_count": 5,
   "metadata": {
    "scrolled": true
   },
   "outputs": [
    {
     "data": {
      "image/png": "[encoded data removed]",
      "text/plain": [
       "<Figure size 432x288 with 2 Axes>"
      ]
     },
     "metadata": {
      "needs_background": "light"
     },
     "output_type": "display_data"
    }
   ],
   "source": [
    "ax = sns.heatmap(cosines_small, square=True, linewidth=0.5, cmap=\"RdBu\", xticklabels=urls[:10], yticklabels=urls[:10])\n",
    "plt.show()"
   ]
  },
  {
   "cell_type": "markdown",
   "metadata": {},
   "source": [
    "Some minor tweaks to hide repeated values:"
   ]
  },
  {
   "cell_type": "code",
   "execution_count": 6,
   "metadata": {},
   "outputs": [
    {
     "data": {
      "image/png": "[encoded data removed]",
      "text/plain": [
       "<Figure size 432x288 with 2 Axes>"
      ]
     },
     "metadata": {},
     "output_type": "display_data"
    }
   ],
   "source": [
    "mask = np.zeros_like(cosines_small)\n",
    "mask[np.triu_indices_from(mask)] = True\n",
    "with sns.axes_style(\"white\"):\n",
    "    ax = sns.heatmap(cosines_small, linewidth=0.5, mask=mask, vmax=1, square=True,cmap=\"RdBu\", xticklabels=urls[:10], yticklabels=urls[:10])\n",
    "    plt.show()"
   ]
  }
 ],
 "metadata": {
  "kernelspec": {
   "display_name": "Python 3",
   "language": "python",
   "name": "python3"
  },
  "language_info": {
   "codemirror_mode": {
    "name": "ipython",
    "version": 3
   },
   "file_extension": ".py",
   "mimetype": "text/x-python",
   "name": "python",
   "nbconvert_exporter": "python",
   "pygments_lexer": "ipython3",
   "version": "3.8.3"
  }
 },
 "nbformat": 4,
 "nbformat_minor": 4
}
