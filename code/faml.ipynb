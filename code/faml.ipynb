{
  "nbformat": 4,
  "nbformat_minor": 0,
  "metadata": {
    "colab": {
      "name": "faml.ipynb",
      "provenance": [],
      "authorship_tag": "ABX9TyNdWBvQq8Ez3HEPJY87XzqO",
      "include_colab_link": true
    },
    "kernelspec": {
      "name": "python3",
      "display_name": "Python 3"
    }
  },
  "cells": [
    {
      "cell_type": "markdown",
      "metadata": {
        "id": "view-in-github",
        "colab_type": "text"
      },
      "source": [
        "<a href=\"https://colab.research.google.com/github/andrefs/mapi-faml-proj/blob/main/code/faml.ipynb\" target=\"_parent\"><img src=\"https://colab.research.google.com/assets/colab-badge.svg\" alt=\"Open In Colab\"/></a>"
      ]
    },
    {
      "cell_type": "markdown",
      "metadata": {
        "id": "8ldsbwbszEcU"
      },
      "source": [
        "# Load stuff"
      ]
    },
    {
      "cell_type": "markdown",
      "metadata": {
        "id": "AP9s2VRizdyq"
      },
      "source": [
        "\n",
        "## Libraries"
      ]
    },
    {
      "cell_type": "code",
      "metadata": {
        "id": "GQLvl1ogzVBJ"
      },
      "source": [
        "import csv\n",
        "import numpy as np\n",
        "from sklearn.model_selection import train_test_split\n",
        "from sklearn.ensemble import RandomForestRegressor\n",
        "from sklearn.metrics import mean_absolute_error \n",
        "from keras.callbacks import ModelCheckpoint\n",
        "from keras.models import Sequential\n",
        "from keras.layers import Dense, Activation, Flatten\n",
        "\n",
        "from matplotlib import pyplot as plt\n",
        "import seaborn as sb\n",
        "import matplotlib.pyplot as plt\n",
        "import pandas as pd\n",
        "import warnings \n",
        "warnings.filterwarnings('ignore')\n",
        "warnings.filterwarnings('ignore', category=DeprecationWarning)\n",
        "from xgboost import XGBRegressor"
      ],
      "execution_count": null,
      "outputs": []
    },
    {
      "cell_type": "markdown",
      "metadata": {
        "id": "Aln-D8hdzZ8U"
      },
      "source": [
        "## Embeddings"
      ]
    },
    {
      "cell_type": "code",
      "metadata": {
        "id": "vTh4iPaSqRP8"
      },
      "source": [
        "# currently not being used\n",
        "def normalize(word_vec):\n",
        "    norm=np.linalg.norm(word_vec)\n",
        "    if norm == 0: \n",
        "       return word_vec\n",
        "    return word_vec/norm\n",
        "\n",
        "embs = {}\n",
        "url = 'https://raw.githubusercontent.com/andrefs/mapi-faml-proj/main/2_clean_datasets/embeddings.txt'\n",
        "response = urllib.request.urlopen(url)\n",
        "lines = [l.decode('utf-8') for l in response.readlines()]\n",
        "reader = csv.reader(lines, delimiter=' ')\n",
        "for line in reader:\n",
        "    term = line[0].replace('http://dbpedia.org/resource/' , '')\n",
        "    vector = [float(x) for x in line[1:]]\n",
        "    embs[term] = vector\n",
        "\n",
        "\n",
        "len(embs.keys())"
      ],
      "execution_count": null,
      "outputs": []
    },
    {
      "cell_type": "markdown",
      "metadata": {
        "id": "BFjrLpJoziz5"
      },
      "source": [
        "## Relatedness pairs"
      ]
    },
    {
      "cell_type": "code",
      "metadata": {
        "id": "TyynA0vIzm_B"
      },
      "source": [
        "relness = {}\n",
        "url = 'https://raw.githubusercontent.com/andrefs/mapi-faml-proj/main/2_clean_datasets/relatedness_train.tsv'\n",
        "response = urllib.request.urlopen(url)\n",
        "lc = 0\n",
        "lines = [l.decode('utf-8') for l in response.readlines()]\n",
        "reader = csv.reader(lines, delimiter='\\t')\n",
        "for line in reader:\n",
        "    lc += 1\n",
        "    t1 = line[0].replace('http://dbpedia.org/resource/' , '')\n",
        "    t2 = line[1].replace('http://dbpedia.org/resource/' , '')\n",
        "    rel = float(line[2])\n",
        "    relness[t1] = relness.get(t1,{})\n",
        "    relness[t1][t2] = [float(line[2]), line(3)]\n",
        "\n",
        "lc"
      ],
      "execution_count": null,
      "outputs": []
    }
  ]
}